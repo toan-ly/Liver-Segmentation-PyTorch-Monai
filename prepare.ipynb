{
 "cells": [
  {
   "cell_type": "markdown",
   "metadata": {},
   "source": [
    "### Create groups of 65 slices"
   ]
  },
  {
   "cell_type": "code",
   "execution_count": 30,
   "metadata": {},
   "outputs": [],
   "source": [
    "from glob import glob\n",
    "import shutil\n",
    "import os\n",
    "import dicom2nifti\n",
    "import nibabel as nib\n",
    "import numpy as np"
   ]
  },
  {
   "cell_type": "code",
   "execution_count": 20,
   "metadata": {},
   "outputs": [],
   "source": [
    "in_path = 'datasets/dicom_file/images'\n",
    "out_path = 'datasets/dicom_groups/images'"
   ]
  },
  {
   "cell_type": "code",
   "execution_count": 22,
   "metadata": {},
   "outputs": [],
   "source": [
    "for patient in glob(in_path + '/*'):\n",
    "    pat_name = os.path.basename(os.path.normpath(patient))\n",
    "    num_folders = int(len(glob(patient + '/*.dcm')) / 64)\n",
    "\n",
    "    for i in range(num_folders):\n",
    "        out_path_name = os.path.join(out_path, pat_name + '_' + str(i))\n",
    "        os.mkdir(out_path_name)\n",
    "        for j, file in enumerate(sorted(glob(patient + '/*'))):\n",
    "            if j > 64:\n",
    "                break\n",
    "            shutil.move(file, out_path_name)"
   ]
  },
  {
   "cell_type": "markdown",
   "metadata": {},
   "source": [
    "### Convert DICOM into NIFTI"
   ]
  },
  {
   "cell_type": "code",
   "execution_count": 27,
   "metadata": {},
   "outputs": [],
   "source": [
    "in_path_images = 'datasets/dicom_groups/images/*'\n",
    "in_path_labels = 'datasets/dicom_groups/labels/*'\n",
    "out_path_images = 'datasets/nifti_files/images'\n",
    "out_path_labels = 'datasets/nifti_files/labels'\n",
    "\n",
    "list_images = glob(in_path_images)\n",
    "list_labels = glob(in_path_labels)"
   ]
  },
  {
   "cell_type": "code",
   "execution_count": null,
   "metadata": {},
   "outputs": [],
   "source": [
    "for patient in list_images:\n",
    "    pat_name = os.path.basename(os.path.normpath(patient))\n",
    "    dicom2nifti.dicom_series_to_nifti(patient, os.path.join(out_path_images, pat_name + '.nii.gz'))"
   ]
  },
  {
   "cell_type": "code",
   "execution_count": null,
   "metadata": {},
   "outputs": [],
   "source": [
    "for patient in list_labels:\n",
    "    pat_name = os.path.basename(os.path.normpath(patient))\n",
    "    dicom2nifti.dicom_series_to_nifti(patient, os.path.join(out_path_labels, pat_name + '.nii.gz'))"
   ]
  },
  {
   "cell_type": "markdown",
   "metadata": {},
   "source": [
    "### Find empty"
   ]
  },
  {
   "cell_type": "code",
   "execution_count": null,
   "metadata": {},
   "outputs": [],
   "source": [
    "input_nifti_file_path = out_path_labels + '/*'\n",
    "list_labels = glob(input_nifti_file_path)\n",
    "\n",
    "for patient in list_labels:\n",
    "    nifti_file = nib.load(patient)\n",
    "    fdata = nifti_file.get_fdata()\n",
    "    unique_labels = np.unique(fdata)\n",
    "    if len(unique_labels) == 1:\n",
    "        print(patient)"
   ]
  },
  {
   "cell_type": "code",
   "execution_count": null,
   "metadata": {},
   "outputs": [],
   "source": []
  }
 ],
 "metadata": {
  "kernelspec": {
   "display_name": "Python 3 (ipykernel)",
   "language": "python",
   "name": "python3"
  },
  "language_info": {
   "codemirror_mode": {
    "name": "ipython",
    "version": 3
   },
   "file_extension": ".py",
   "mimetype": "text/x-python",
   "name": "python",
   "nbconvert_exporter": "python",
   "pygments_lexer": "ipython3",
   "version": "3.10.14"
  }
 },
 "nbformat": 4,
 "nbformat_minor": 4
}
